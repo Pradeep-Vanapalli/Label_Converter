{
 "cells": [
  {
   "cell_type": "code",
   "execution_count": 6,
   "id": "ba7e4181",
   "metadata": {},
   "outputs": [],
   "source": [
    "import os\n",
    "\n",
    "input_dir = \"Desktop/TRAIN_DATA/labels/val/\"\n",
    "output_dir='Desktop/TRAIN_DATA/labels/val1/'\n",
    "for txt_in in os.listdir(input_dir):\n",
    "    with open(os.path.join(input_dir, txt_in), 'r') as f:\n",
    "        # Don't read entire file since we\n",
    "        # are looping line by line\n",
    "        #infile = f.read()# Read contents of file\n",
    "        result = []\n",
    "        for line in f:  # changed to file handle\n",
    "            line = line.rstrip() # remove trailing '\\n'\n",
    "            # Only split once since you're only check the first word\n",
    "            words = line.split(\" \", maxsplit = 1)\n",
    "            word = words[0]  # word 0 may change\n",
    "            if word == \"31\":\n",
    "                word = word.replace('31', '30')\n",
    "            #elif word == \"2\":\n",
    "                #word = word.replace('2', '6')\n",
    "            #elif word == \"3\":\n",
    "               # word = word.replace('3', '13')\n",
    "            #elif word == \"1\":\n",
    "                #word = word.replace('1', '5')\n",
    "            #elif word == \"4\":\n",
    "                #word = word.replace('4', '27')\n",
    "          \n",
    "\n",
    "            else:\n",
    "                pass\n",
    "            # Update the word you modified\n",
    "            words[0] = word  # update word 0\n",
    "            # save new line into results\n",
    "            # after converting back to string\n",
    "            result.append(\" \".join(words))\n",
    "\n",
    "    with open(os.path.join(output_dir, txt_in), 'w') as f:\n",
    "        # Convert result list to string and write to file\n",
    "        outfile = '\\n'.join(result)\n",
    "        f.write(outfile)"
   ]
  },
  {
   "cell_type": "code",
   "execution_count": null,
   "id": "faabf7de",
   "metadata": {},
   "outputs": [],
   "source": []
  }
 ],
 "metadata": {
  "kernelspec": {
   "display_name": "Python 3 (ipykernel)",
   "language": "python",
   "name": "python3"
  },
  "language_info": {
   "codemirror_mode": {
    "name": "ipython",
    "version": 3
   },
   "file_extension": ".py",
   "mimetype": "text/x-python",
   "name": "python",
   "nbconvert_exporter": "python",
   "pygments_lexer": "ipython3",
   "version": "3.9.12"
  }
 },
 "nbformat": 4,
 "nbformat_minor": 5
}
